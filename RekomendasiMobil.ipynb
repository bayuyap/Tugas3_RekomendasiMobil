{
  "nbformat": 4,
  "nbformat_minor": 0,
  "metadata": {
    "colab": {
      "name": "RekomendasiMobil.ipynb",
      "provenance": [],
      "collapsed_sections": [],
      "include_colab_link": true
    },
    "kernelspec": {
      "name": "python3",
      "display_name": "Python 3"
    },
    "language_info": {
      "name": "python"
    }
  },
  "cells": [
    {
      "cell_type": "markdown",
      "metadata": {
        "id": "view-in-github",
        "colab_type": "text"
      },
      "source": [
        "<a href=\"https://colab.research.google.com/github/bayuyap/Tugas3_RekomendasiMobil/blob/main/RekomendasiMobil.ipynb\" target=\"_parent\"><img src=\"https://colab.research.google.com/assets/colab-badge.svg\" alt=\"Open In Colab\"/></a>"
      ]
    },
    {
      "cell_type": "markdown",
      "metadata": {
        "id": "UUdeDQ4KAyZq"
      },
      "source": [
        "### **Import Library Yang diperlukan**"
      ]
    },
    {
      "cell_type": "code",
      "metadata": {
        "id": "9sIYkC9h_aNg"
      },
      "source": [
        "import pandas as pd\n",
        "import math\n",
        "from decimal import Decimal\n",
        "import copy"
      ],
      "execution_count": null,
      "outputs": []
    },
    {
      "cell_type": "markdown",
      "metadata": {
        "id": "ySsJ2gF1BG-s"
      },
      "source": [
        "\n",
        "### **Import Excel FIle Untuk Pengujian**"
      ]
    },
    {
      "cell_type": "code",
      "metadata": {
        "colab": {
          "base_uri": "https://localhost:8080/",
          "height": 576
        },
        "id": "pVi-cEt5BDF2",
        "outputId": "7ce7daee-0b7c-4c23-8938-b112f60e49b2"
      },
      "source": [
        "data_mobil = pd.read_excel(\"mobil.xls\")\n",
        "pd.set_option('display.max_rows', None)\n",
        "data_mobil"
      ],
      "execution_count": null,
      "outputs": [
        {
          "output_type": "execute_result",
          "data": {
            "text/html": [
              "<div>\n",
              "<style scoped>\n",
              "    .dataframe tbody tr th:only-of-type {\n",
              "        vertical-align: middle;\n",
              "    }\n",
              "\n",
              "    .dataframe tbody tr th {\n",
              "        vertical-align: top;\n",
              "    }\n",
              "\n",
              "    .dataframe thead th {\n",
              "        text-align: right;\n",
              "    }\n",
              "</style>\n",
              "<table border=\"1\" class=\"dataframe\">\n",
              "  <thead>\n",
              "    <tr style=\"text-align: right;\">\n",
              "      <th></th>\n",
              "      <th>Nama Mobil</th>\n",
              "      <th>Ukuran</th>\n",
              "      <th>Kenyamanan</th>\n",
              "      <th>Irit</th>\n",
              "      <th>Kecepatan</th>\n",
              "      <th>Harga (Ratus Juta)</th>\n",
              "    </tr>\n",
              "  </thead>\n",
              "  <tbody>\n",
              "    <tr>\n",
              "      <th>0</th>\n",
              "      <td>Toyota Agya</td>\n",
              "      <td>4</td>\n",
              "      <td>4</td>\n",
              "      <td>9</td>\n",
              "      <td>6</td>\n",
              "      <td>1.00</td>\n",
              "    </tr>\n",
              "    <tr>\n",
              "      <th>1</th>\n",
              "      <td>Daihatsu Alya</td>\n",
              "      <td>4</td>\n",
              "      <td>3</td>\n",
              "      <td>9</td>\n",
              "      <td>6</td>\n",
              "      <td>1.10</td>\n",
              "    </tr>\n",
              "    <tr>\n",
              "      <th>2</th>\n",
              "      <td>Toyota Avanza</td>\n",
              "      <td>6</td>\n",
              "      <td>5</td>\n",
              "      <td>6</td>\n",
              "      <td>6</td>\n",
              "      <td>2.00</td>\n",
              "    </tr>\n",
              "    <tr>\n",
              "      <th>3</th>\n",
              "      <td>Daihatsu Xenia</td>\n",
              "      <td>6</td>\n",
              "      <td>4</td>\n",
              "      <td>6</td>\n",
              "      <td>6</td>\n",
              "      <td>1.75</td>\n",
              "    </tr>\n",
              "    <tr>\n",
              "      <th>4</th>\n",
              "      <td>Xpander</td>\n",
              "      <td>7</td>\n",
              "      <td>7</td>\n",
              "      <td>6</td>\n",
              "      <td>7</td>\n",
              "      <td>2.25</td>\n",
              "    </tr>\n",
              "    <tr>\n",
              "      <th>5</th>\n",
              "      <td>Livina</td>\n",
              "      <td>7</td>\n",
              "      <td>7</td>\n",
              "      <td>6</td>\n",
              "      <td>7</td>\n",
              "      <td>2.10</td>\n",
              "    </tr>\n",
              "    <tr>\n",
              "      <th>6</th>\n",
              "      <td>Karimun</td>\n",
              "      <td>3</td>\n",
              "      <td>4</td>\n",
              "      <td>10</td>\n",
              "      <td>5</td>\n",
              "      <td>1.20</td>\n",
              "    </tr>\n",
              "    <tr>\n",
              "      <th>7</th>\n",
              "      <td>Toyota Innova</td>\n",
              "      <td>8</td>\n",
              "      <td>8</td>\n",
              "      <td>5</td>\n",
              "      <td>7</td>\n",
              "      <td>4.00</td>\n",
              "    </tr>\n",
              "    <tr>\n",
              "      <th>8</th>\n",
              "      <td>Alphard</td>\n",
              "      <td>9</td>\n",
              "      <td>10</td>\n",
              "      <td>4</td>\n",
              "      <td>8</td>\n",
              "      <td>10.00</td>\n",
              "    </tr>\n",
              "    <tr>\n",
              "      <th>9</th>\n",
              "      <td>Toyota Vios</td>\n",
              "      <td>5</td>\n",
              "      <td>7</td>\n",
              "      <td>9</td>\n",
              "      <td>8</td>\n",
              "      <td>2.50</td>\n",
              "    </tr>\n",
              "    <tr>\n",
              "      <th>10</th>\n",
              "      <td>Honda City</td>\n",
              "      <td>5</td>\n",
              "      <td>8</td>\n",
              "      <td>7</td>\n",
              "      <td>8</td>\n",
              "      <td>2.70</td>\n",
              "    </tr>\n",
              "    <tr>\n",
              "      <th>11</th>\n",
              "      <td>Toyota Hiace</td>\n",
              "      <td>10</td>\n",
              "      <td>5</td>\n",
              "      <td>8</td>\n",
              "      <td>6</td>\n",
              "      <td>5.00</td>\n",
              "    </tr>\n",
              "    <tr>\n",
              "      <th>12</th>\n",
              "      <td>Toyota Fortuner</td>\n",
              "      <td>9</td>\n",
              "      <td>8</td>\n",
              "      <td>5</td>\n",
              "      <td>8</td>\n",
              "      <td>5.00</td>\n",
              "    </tr>\n",
              "    <tr>\n",
              "      <th>13</th>\n",
              "      <td>Toyota Foxy</td>\n",
              "      <td>9</td>\n",
              "      <td>9</td>\n",
              "      <td>5</td>\n",
              "      <td>7</td>\n",
              "      <td>5.50</td>\n",
              "    </tr>\n",
              "    <tr>\n",
              "      <th>14</th>\n",
              "      <td>Toyota Corolla Altis</td>\n",
              "      <td>5</td>\n",
              "      <td>9</td>\n",
              "      <td>7</td>\n",
              "      <td>9</td>\n",
              "      <td>6.00</td>\n",
              "    </tr>\n",
              "    <tr>\n",
              "      <th>15</th>\n",
              "      <td>Suzuki Ertiga</td>\n",
              "      <td>7</td>\n",
              "      <td>7</td>\n",
              "      <td>7</td>\n",
              "      <td>7</td>\n",
              "      <td>2.30</td>\n",
              "    </tr>\n",
              "    <tr>\n",
              "      <th>16</th>\n",
              "      <td>Suzuki Carry</td>\n",
              "      <td>7</td>\n",
              "      <td>3</td>\n",
              "      <td>9</td>\n",
              "      <td>5</td>\n",
              "      <td>0.80</td>\n",
              "    </tr>\n",
              "  </tbody>\n",
              "</table>\n",
              "</div>"
            ],
            "text/plain": [
              "              Nama Mobil  Ukuran  ...  Kecepatan  Harga (Ratus Juta)\n",
              "0            Toyota Agya       4  ...          6                1.00\n",
              "1          Daihatsu Alya       4  ...          6                1.10\n",
              "2          Toyota Avanza       6  ...          6                2.00\n",
              "3         Daihatsu Xenia       6  ...          6                1.75\n",
              "4                Xpander       7  ...          7                2.25\n",
              "5                 Livina       7  ...          7                2.10\n",
              "6                Karimun       3  ...          5                1.20\n",
              "7          Toyota Innova       8  ...          7                4.00\n",
              "8                Alphard       9  ...          8               10.00\n",
              "9            Toyota Vios       5  ...          8                2.50\n",
              "10            Honda City       5  ...          8                2.70\n",
              "11          Toyota Hiace      10  ...          6                5.00\n",
              "12       Toyota Fortuner       9  ...          8                5.00\n",
              "13           Toyota Foxy       9  ...          7                5.50\n",
              "14  Toyota Corolla Altis       5  ...          9                6.00\n",
              "15         Suzuki Ertiga       7  ...          7                2.30\n",
              "16          Suzuki Carry       7  ...          5                0.80\n",
              "\n",
              "[17 rows x 6 columns]"
            ]
          },
          "metadata": {
            "tags": []
          },
          "execution_count": 2
        }
      ]
    },
    {
      "cell_type": "markdown",
      "metadata": {
        "id": "7PKOqOQbB9dA"
      },
      "source": [
        "\n",
        "### **Deskripsi data secara statistik**"
      ]
    },
    {
      "cell_type": "code",
      "metadata": {
        "colab": {
          "base_uri": "https://localhost:8080/",
          "height": 204
        },
        "id": "JKY99l0ZB-l5",
        "outputId": "44c1fbf8-5e32-49e9-acaf-47b6a4f1a510"
      },
      "source": [
        "data_mobil.describe().T"
      ],
      "execution_count": null,
      "outputs": [
        {
          "output_type": "execute_result",
          "data": {
            "text/html": [
              "<div>\n",
              "<style scoped>\n",
              "    .dataframe tbody tr th:only-of-type {\n",
              "        vertical-align: middle;\n",
              "    }\n",
              "\n",
              "    .dataframe tbody tr th {\n",
              "        vertical-align: top;\n",
              "    }\n",
              "\n",
              "    .dataframe thead th {\n",
              "        text-align: right;\n",
              "    }\n",
              "</style>\n",
              "<table border=\"1\" class=\"dataframe\">\n",
              "  <thead>\n",
              "    <tr style=\"text-align: right;\">\n",
              "      <th></th>\n",
              "      <th>count</th>\n",
              "      <th>mean</th>\n",
              "      <th>std</th>\n",
              "      <th>min</th>\n",
              "      <th>25%</th>\n",
              "      <th>50%</th>\n",
              "      <th>75%</th>\n",
              "      <th>max</th>\n",
              "    </tr>\n",
              "  </thead>\n",
              "  <tbody>\n",
              "    <tr>\n",
              "      <th>Ukuran</th>\n",
              "      <td>17.0</td>\n",
              "      <td>6.529412</td>\n",
              "      <td>2.034627</td>\n",
              "      <td>3.0</td>\n",
              "      <td>5.00</td>\n",
              "      <td>7.0</td>\n",
              "      <td>8.0</td>\n",
              "      <td>10.0</td>\n",
              "    </tr>\n",
              "    <tr>\n",
              "      <th>Kenyamanan</th>\n",
              "      <td>17.0</td>\n",
              "      <td>6.352941</td>\n",
              "      <td>2.234423</td>\n",
              "      <td>3.0</td>\n",
              "      <td>4.00</td>\n",
              "      <td>7.0</td>\n",
              "      <td>8.0</td>\n",
              "      <td>10.0</td>\n",
              "    </tr>\n",
              "    <tr>\n",
              "      <th>Irit</th>\n",
              "      <td>17.0</td>\n",
              "      <td>6.941176</td>\n",
              "      <td>1.784327</td>\n",
              "      <td>4.0</td>\n",
              "      <td>6.00</td>\n",
              "      <td>7.0</td>\n",
              "      <td>9.0</td>\n",
              "      <td>10.0</td>\n",
              "    </tr>\n",
              "    <tr>\n",
              "      <th>Kecepatan</th>\n",
              "      <td>17.0</td>\n",
              "      <td>6.823529</td>\n",
              "      <td>1.131111</td>\n",
              "      <td>5.0</td>\n",
              "      <td>6.00</td>\n",
              "      <td>7.0</td>\n",
              "      <td>8.0</td>\n",
              "      <td>9.0</td>\n",
              "    </tr>\n",
              "    <tr>\n",
              "      <th>Harga (Ratus Juta)</th>\n",
              "      <td>17.0</td>\n",
              "      <td>3.247059</td>\n",
              "      <td>2.406597</td>\n",
              "      <td>0.8</td>\n",
              "      <td>1.75</td>\n",
              "      <td>2.3</td>\n",
              "      <td>5.0</td>\n",
              "      <td>10.0</td>\n",
              "    </tr>\n",
              "  </tbody>\n",
              "</table>\n",
              "</div>"
            ],
            "text/plain": [
              "                    count      mean       std  min   25%  50%  75%   max\n",
              "Ukuran               17.0  6.529412  2.034627  3.0  5.00  7.0  8.0  10.0\n",
              "Kenyamanan           17.0  6.352941  2.234423  3.0  4.00  7.0  8.0  10.0\n",
              "Irit                 17.0  6.941176  1.784327  4.0  6.00  7.0  9.0  10.0\n",
              "Kecepatan            17.0  6.823529  1.131111  5.0  6.00  7.0  8.0   9.0\n",
              "Harga (Ratus Juta)   17.0  3.247059  2.406597  0.8  1.75  2.3  5.0  10.0"
            ]
          },
          "metadata": {
            "tags": []
          },
          "execution_count": 3
        }
      ]
    },
    {
      "cell_type": "markdown",
      "metadata": {
        "id": "0wnhnGVOCMsz"
      },
      "source": [
        "## **Prapemrosesan Data**\n",
        "\n"
      ]
    },
    {
      "cell_type": "markdown",
      "metadata": {
        "id": "YXjMxttln2Sb"
      },
      "source": [
        "\n",
        "### **Perhitungan Ukuran Jarak dengan Rumus**\n"
      ]
    },
    {
      "cell_type": "markdown",
      "metadata": {
        "id": "R0OsTteFsl-m"
      },
      "source": [
        "#### **Rumus Euclidean**"
      ]
    },
    {
      "cell_type": "code",
      "metadata": {
        "id": "ww3bUfTun4ic"
      },
      "source": [
        "def eq_euclidean(penilaian, data_uji):\n",
        "  ukuran_jarak = 0\n",
        "  for index in range(len(data_uji)):\n",
        "    ukuran_jarak += pow(penilaian[index] - data_uji[index] , 2)\n",
        "  return math.sqrt(ukuran_jarak)"
      ],
      "execution_count": null,
      "outputs": []
    },
    {
      "cell_type": "markdown",
      "metadata": {
        "id": "VcMS1Kg3k0ti"
      },
      "source": [
        "#### **Rumus Minkowski**"
      ]
    },
    {
      "cell_type": "code",
      "metadata": {
        "id": "Avw8LWq-k12g"
      },
      "source": [
        "def nth_root(value, n_root):\n",
        "  nilai_root = 1/float(n_root)\n",
        "  return round(value ** nilai_root,2)\n",
        "def eq_minkowski(penilaian, data_uji, nilai_p):\n",
        "  ukuran_jarak = 0\n",
        "  for index in range(len(data_uji)):\n",
        "    ukuran_jarak += nth_root(pow(abs(penilaian[index] - data_uji[index]),nilai_p),nilai_p)\n",
        "  return ukuran_jarak"
      ],
      "execution_count": null,
      "outputs": []
    },
    {
      "cell_type": "markdown",
      "metadata": {
        "id": "O6nS6l_FngTf"
      },
      "source": [
        "#### **Rumus Supremum**"
      ]
    },
    {
      "cell_type": "code",
      "metadata": {
        "id": "qFrZv4Msnkss"
      },
      "source": [
        "def eq_supremum(penilaian, data_uji):\n",
        "  ukuran_jarak = []\n",
        "  for i in range(len(data_uji)):\n",
        "    ukuran_jarak.append(abs(penilaian[i] - data_uji[i]))\n",
        "  return max(ukuran_jarak)"
      ],
      "execution_count": null,
      "outputs": []
    },
    {
      "cell_type": "markdown",
      "metadata": {
        "id": "Chd4V8rJhx1k"
      },
      "source": [
        "#### **Rumus Manhattan**"
      ]
    },
    {
      "cell_type": "code",
      "metadata": {
        "id": "Ke4JCFhwh9c3"
      },
      "source": [
        "def eq_manhattan(penilaian, data_uji):\n",
        "  ukuran_jarak = 0\n",
        "  for index in range(len(data_uji)):\n",
        "    ukuran_jarak += abs(penilaian[index] - data_uji[index])\n",
        "  return ukuran_jarak"
      ],
      "execution_count": null,
      "outputs": []
    },
    {
      "cell_type": "markdown",
      "metadata": {
        "id": "i-bibA-4xNA3"
      },
      "source": [
        "#### **Mengambil ukuran jarak data menggunakan semua rumus untuk pengujian pencarian jarak data**"
      ]
    },
    {
      "cell_type": "code",
      "metadata": {
        "id": "9V5HNgyixFUv"
      },
      "source": [
        "def get_ukuran_jarak(data, data_uji):\n",
        "  euclidean_distance = list()\n",
        "  manhattan_distance = list()\n",
        "  supremum_distance = list()\n",
        "  minkowski_distance = list()\n",
        "  \n",
        "  data_mobil2 = data.drop(columns=['Nama Mobil'])\n",
        "  list_data = (data.copy()).values.tolist()\n",
        "  \n",
        "  for i in range(len(data)):\n",
        "    data_temp = data_mobil2.iloc[i].tolist()\n",
        "    euclidean_distance.append([list_data[i][0], eq_euclidean(data_uji, data_temp)])\n",
        "    manhattan_distance.append([list_data[i][0], eq_manhattan(data_uji, data_temp)])\n",
        "    supremum_distance.append([list_data[i][0], eq_supremum(data_uji, data_temp)]),\n",
        "    minkowski_distance.append([list_data[i][0], eq_minkowski(data_uji, data_temp, 2)])\n",
        "\n",
        "  return euclidean_distance, manhattan_distance, supremum_distance, minkowski_distance"
      ],
      "execution_count": null,
      "outputs": []
    },
    {
      "cell_type": "markdown",
      "metadata": {
        "id": "yiVHg6CGR4WL"
      },
      "source": [
        "#### **Fungsi pencarian 3 besar data terbaik berdasarkan pengujian**"
      ]
    },
    {
      "cell_type": "code",
      "metadata": {
        "id": "gaRvdDc0F-kM"
      },
      "source": [
        "def choose_big_3(euclidean_distance, manhattan_distance, supremum_distance, minkowski_distance):\n",
        "  \n",
        "  euclidean_distance.sort()\n",
        "  manhattan_distance.sort()\n",
        "  supremum_distance.sort()\n",
        "  minkowski_distance.sort()\n",
        "\n",
        "  return euclidean_distance[:3], manhattan_distance[:3], supremum_distance[:3], minkowski_distance[:3]"
      ],
      "execution_count": null,
      "outputs": []
    },
    {
      "cell_type": "markdown",
      "metadata": {
        "id": "xgwirwqSWGyJ"
      },
      "source": [
        "## **Program Utama**\n"
      ]
    },
    {
      "cell_type": "markdown",
      "metadata": {
        "id": "KzRKO5N8DyfW"
      },
      "source": [
        "#### **Membuat input agar pengujian dapat dilakukan**"
      ]
    },
    {
      "cell_type": "code",
      "metadata": {
        "colab": {
          "base_uri": "https://localhost:8080/"
        },
        "id": "_AYI8xaccWvg",
        "outputId": "8cdfb132-1b24-4e45-d8a2-76b61a788ff7"
      },
      "source": [
        "ukuran = int(input(\"Masukan Ukuran Mobil Yang Anda Inginkan\t\t: \"))\n",
        "kenyamanan = int(input(\"Masukan Tingkat Kenyamanan Yang Anda Inginkan\t: \"))\n",
        "bahan_bakar = int(input(\"Masukan Tingkat Keiritan Bahan Bakar\t\t: \"))\n",
        "kecepatan = float(input(\"Masukan Maksimum Kecepatan Yang Anda Inginkan\t: \"))\n",
        "harga = float(input(\"Masukkan Harga Yang Anda Inginkan\t\t: \"))\n",
        "\n",
        "data_uji = [ukuran, kenyamanan, bahan_bakar, kecepatan, harga]"
      ],
      "execution_count": null,
      "outputs": [
        {
          "output_type": "stream",
          "text": [
            "Masukan Ukuran Mobil Yang Anda Inginkan\t\t: 1\n",
            "Masukan Tingkat Kenyamanan Yang Anda Inginkan\t: 4\n",
            "Masukan Tingkat Keiritan Bahan Bakar\t\t: 10\n",
            "Masukan Maksimum Kecepatan Yang Anda Inginkan\t: 10\n",
            "Masukkan Harga Yang Anda Inginkan\t\t: 1\n"
          ],
          "name": "stdout"
        }
      ]
    },
    {
      "cell_type": "markdown",
      "metadata": {
        "id": "gnLzfrY1de5g"
      },
      "source": [
        "#### **Mengambil hasil inputan dan mencari 3 terbaik dari input user**"
      ]
    },
    {
      "cell_type": "code",
      "metadata": {
        "colab": {
          "base_uri": "https://localhost:8080/"
        },
        "id": "idp8RS4XSxrP",
        "outputId": "fc269fa3-ce4a-487f-84ff-e7907ae51698"
      },
      "source": [
        "euclidean_distance, manhattan_distance, supremum_distance, minkowski_distance = get_ukuran_jarak(data_mobil, data_uji)\n",
        "big3_euclidean, big3_manhattan, big3_supremum, big3_minkowski = choose_big_3(euclidean_distance, manhattan_distance, supremum_distance, minkowski_distance)\n",
        "print(\"Hasil Akhir : \")\n",
        "hasil_euclidean = pd.DataFrame(big3_euclidean, columns=['Mobil', 'Hasil Rumus Euclidean'])\n",
        "hasil_manhattan = pd.DataFrame(big3_manhattan, columns=['Mobil', 'Hasil Rumus Manhattan'])\n",
        "hasil_minkowski = pd.DataFrame(big3_minkowski, columns=['Mobil', 'Hasil Rumus Minkowski'])\n",
        "hasil_supremum = pd.DataFrame(big3_supremum, columns=['Mobil', 'Hasil Rumus Supremum'])\n",
        "print(\"Euclidean : \\n\",hasil_euclidean, \"\\nManhattan : \\n\",hasil_manhattan, \"\\nSupremum  : \\n\", hasil_supremum , \"\\nMinkowski : \\n\", hasil_minkowski)\n"
      ],
      "execution_count": null,
      "outputs": [
        {
          "output_type": "stream",
          "text": [
            "Hasil Akhir : \n",
            "Euclidean : \n",
            "             Mobil  Hasil Rumus Euclidean\n",
            "0         Alphard              14.866069\n",
            "1   Daihatsu Alya               5.197115\n",
            "2  Daihatsu Xenia               7.586995 \n",
            "Manhattan : \n",
            "             Mobil  Hasil Rumus Manhattan\n",
            "0         Alphard                  31.00\n",
            "1   Daihatsu Alya                   9.10\n",
            "2  Daihatsu Xenia                  13.75 \n",
            "Supremum  : \n",
            "             Mobil  Hasil Rumus Supremum\n",
            "0         Alphard                   9.0\n",
            "1   Daihatsu Alya                   4.0\n",
            "2  Daihatsu Xenia                   5.0 \n",
            "Minkowski : \n",
            "             Mobil  Hasil Rumus Minkowski\n",
            "0         Alphard                  31.00\n",
            "1   Daihatsu Alya                   9.10\n",
            "2  Daihatsu Xenia                  13.75\n"
          ],
          "name": "stdout"
        }
      ]
    },
    {
      "cell_type": "markdown",
      "metadata": {
        "id": "FIQ9ZGKrJBXg"
      },
      "source": [
        "#### **Hasil Akhir Untuk Rumus Minkowski**"
      ]
    },
    {
      "cell_type": "code",
      "metadata": {
        "colab": {
          "base_uri": "https://localhost:8080/",
          "height": 142
        },
        "id": "ubQw8pWcCeFe",
        "outputId": "afa8965b-d8f2-4fb2-afa7-d6b41a80fb5c"
      },
      "source": [
        "hasil_akhir = pd.DataFrame(big3_minkowski, columns=['Mobil', 'Hasil Rumus Minkowski'])\n",
        "hasil_akhir"
      ],
      "execution_count": null,
      "outputs": [
        {
          "output_type": "execute_result",
          "data": {
            "text/html": [
              "<div>\n",
              "<style scoped>\n",
              "    .dataframe tbody tr th:only-of-type {\n",
              "        vertical-align: middle;\n",
              "    }\n",
              "\n",
              "    .dataframe tbody tr th {\n",
              "        vertical-align: top;\n",
              "    }\n",
              "\n",
              "    .dataframe thead th {\n",
              "        text-align: right;\n",
              "    }\n",
              "</style>\n",
              "<table border=\"1\" class=\"dataframe\">\n",
              "  <thead>\n",
              "    <tr style=\"text-align: right;\">\n",
              "      <th></th>\n",
              "      <th>Mobil</th>\n",
              "      <th>Hasil Rumus Minkowski</th>\n",
              "    </tr>\n",
              "  </thead>\n",
              "  <tbody>\n",
              "    <tr>\n",
              "      <th>0</th>\n",
              "      <td>Alphard</td>\n",
              "      <td>31.00</td>\n",
              "    </tr>\n",
              "    <tr>\n",
              "      <th>1</th>\n",
              "      <td>Daihatsu Alya</td>\n",
              "      <td>9.10</td>\n",
              "    </tr>\n",
              "    <tr>\n",
              "      <th>2</th>\n",
              "      <td>Daihatsu Xenia</td>\n",
              "      <td>13.75</td>\n",
              "    </tr>\n",
              "  </tbody>\n",
              "</table>\n",
              "</div>"
            ],
            "text/plain": [
              "            Mobil  Hasil Rumus Minkowski\n",
              "0         Alphard                  31.00\n",
              "1   Daihatsu Alya                   9.10\n",
              "2  Daihatsu Xenia                  13.75"
            ]
          },
          "metadata": {
            "tags": []
          },
          "execution_count": 12
        }
      ]
    },
    {
      "cell_type": "markdown",
      "metadata": {
        "id": "QpX14cW6WjMU"
      },
      "source": [
        "#### **Hasil Akhir disimpan dalam bentuk file excel**"
      ]
    },
    {
      "cell_type": "code",
      "metadata": {
        "id": "BXoRLdHSTUSr"
      },
      "source": [
        "file_path = 'rekomendasi.xlsx'\n",
        "    \n",
        "hasil_akhir.to_excel(file_path, index=False)"
      ],
      "execution_count": null,
      "outputs": []
    }
  ]
}